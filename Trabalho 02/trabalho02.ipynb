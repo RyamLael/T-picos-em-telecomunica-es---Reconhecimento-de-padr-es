{
 "cells": [
  {
   "cell_type": "markdown",
   "metadata": {},
   "source": [
    "# Trabalho 02 - Extração de Atributos e k-NN com k-fold   \n",
    "\n",
    "## Setup inicial\n",
    "\n",
    "### Importando bibliotecas:\n"
   ]
  },
  {
   "cell_type": "code",
   "execution_count": 2,
   "metadata": {},
   "outputs": [],
   "source": [
    "import numpy as np\n",
    "import pandas as pd\n",
    "import matplotlib.pyplot as plt\n",
    "import os\n",
    "\n",
    "import scipy.io as io\n",
    "import scipy.stats as stats\n",
    "from IPython.display import Audio\n",
    "from collections import Counter\n",
    "from typing import Tuple"
   ]
  },
  {
   "cell_type": "markdown",
   "metadata": {},
   "source": [
    "### Criando a base de dados"
   ]
  },
  {
   "cell_type": "code",
   "execution_count": null,
   "metadata": {},
   "outputs": [
    {
     "data": {
      "text/plain": [
       "(100, 6)"
      ]
     },
     "execution_count": 3,
     "metadata": {},
     "output_type": "execute_result"
    }
   ],
   "source": [
    "dataFolder = \"./Acordes\"\n",
    "files = os.listdir(dataFolder)\n",
    "\n",
    "columns = [\"file\", \"mean\", \"std\", \"skewness\", \"kurtosis\", \"class\"]\n",
    "\n",
    "chords = pd.DataFrame(\n",
    "    data= [],\n",
    "    columns = columns,\n",
    "    index= range(len(files))\n",
    ")\n",
    "\n",
    "for index, file in enumerate(files):\n",
    "    \n",
    "    className = file.split(\"_\").pop(0)\n",
    "    className = className.lower()\n",
    "\n",
    "    sampleRate, audio = io.wavfile.read(f\"{dataFolder}/{file}\")\n",
    "    \n",
    "    mean = np.mean(audio)\n",
    "    std = np.std(audio)\n",
    "    skewness = stats.skew(audio)\n",
    "    kurtosis = stats.kurtosis(audio)\n",
    "\n",
    "    chords.iloc[index] = [file, mean, std, skewness, kurtosis, className]\n",
    "\n",
    "chords.shape"
   ]
  },
  {
   "cell_type": "markdown",
   "metadata": {},
   "source": [
    "- Visualizando o início do banco de dados:"
   ]
  },
  {
   "cell_type": "code",
   "execution_count": 4,
   "metadata": {},
   "outputs": [
    {
     "data": {
      "text/html": [
       "<div>\n",
       "<style scoped>\n",
       "    .dataframe tbody tr th:only-of-type {\n",
       "        vertical-align: middle;\n",
       "    }\n",
       "\n",
       "    .dataframe tbody tr th {\n",
       "        vertical-align: top;\n",
       "    }\n",
       "\n",
       "    .dataframe thead th {\n",
       "        text-align: right;\n",
       "    }\n",
       "</style>\n",
       "<table border=\"1\" class=\"dataframe\">\n",
       "  <thead>\n",
       "    <tr style=\"text-align: right;\">\n",
       "      <th></th>\n",
       "      <th>file</th>\n",
       "      <th>mean</th>\n",
       "      <th>std</th>\n",
       "      <th>skewness</th>\n",
       "      <th>kurtosis</th>\n",
       "      <th>class</th>\n",
       "    </tr>\n",
       "  </thead>\n",
       "  <tbody>\n",
       "    <tr>\n",
       "      <th>0</th>\n",
       "      <td>Major_0.wav</td>\n",
       "      <td>2.05809</td>\n",
       "      <td>4783.324474</td>\n",
       "      <td>-0.160373</td>\n",
       "      <td>2.695587</td>\n",
       "      <td>major</td>\n",
       "    </tr>\n",
       "    <tr>\n",
       "      <th>1</th>\n",
       "      <td>Major_1.wav</td>\n",
       "      <td>1368.288385</td>\n",
       "      <td>4145.706046</td>\n",
       "      <td>0.346228</td>\n",
       "      <td>4.103374</td>\n",
       "      <td>major</td>\n",
       "    </tr>\n",
       "    <tr>\n",
       "      <th>2</th>\n",
       "      <td>Major_10.wav</td>\n",
       "      <td>1.335756</td>\n",
       "      <td>4761.082845</td>\n",
       "      <td>-0.265601</td>\n",
       "      <td>1.767541</td>\n",
       "      <td>major</td>\n",
       "    </tr>\n",
       "    <tr>\n",
       "      <th>3</th>\n",
       "      <td>Major_11.wav</td>\n",
       "      <td>1130.052298</td>\n",
       "      <td>3596.918809</td>\n",
       "      <td>0.476877</td>\n",
       "      <td>4.769523</td>\n",
       "      <td>major</td>\n",
       "    </tr>\n",
       "    <tr>\n",
       "      <th>4</th>\n",
       "      <td>Major_12.wav</td>\n",
       "      <td>1.946506</td>\n",
       "      <td>4806.190296</td>\n",
       "      <td>-0.209936</td>\n",
       "      <td>1.644306</td>\n",
       "      <td>major</td>\n",
       "    </tr>\n",
       "    <tr>\n",
       "      <th>5</th>\n",
       "      <td>Major_13.wav</td>\n",
       "      <td>1338.479344</td>\n",
       "      <td>3778.07876</td>\n",
       "      <td>0.03611</td>\n",
       "      <td>6.720824</td>\n",
       "      <td>major</td>\n",
       "    </tr>\n",
       "    <tr>\n",
       "      <th>6</th>\n",
       "      <td>Major_14.wav</td>\n",
       "      <td>2.711101</td>\n",
       "      <td>4004.661113</td>\n",
       "      <td>-0.185869</td>\n",
       "      <td>1.957693</td>\n",
       "      <td>major</td>\n",
       "    </tr>\n",
       "    <tr>\n",
       "      <th>7</th>\n",
       "      <td>Major_15.wav</td>\n",
       "      <td>1216.795535</td>\n",
       "      <td>3679.785739</td>\n",
       "      <td>0.404273</td>\n",
       "      <td>10.945738</td>\n",
       "      <td>major</td>\n",
       "    </tr>\n",
       "    <tr>\n",
       "      <th>8</th>\n",
       "      <td>Major_16.wav</td>\n",
       "      <td>2.77809</td>\n",
       "      <td>4048.767658</td>\n",
       "      <td>-0.150399</td>\n",
       "      <td>2.087869</td>\n",
       "      <td>major</td>\n",
       "    </tr>\n",
       "    <tr>\n",
       "      <th>9</th>\n",
       "      <td>Major_17.wav</td>\n",
       "      <td>1204.970441</td>\n",
       "      <td>3171.591704</td>\n",
       "      <td>0.343243</td>\n",
       "      <td>12.392234</td>\n",
       "      <td>major</td>\n",
       "    </tr>\n",
       "  </tbody>\n",
       "</table>\n",
       "</div>"
      ],
      "text/plain": [
       "           file         mean          std  skewness   kurtosis  class\n",
       "0   Major_0.wav      2.05809  4783.324474 -0.160373   2.695587  major\n",
       "1   Major_1.wav  1368.288385  4145.706046  0.346228   4.103374  major\n",
       "2  Major_10.wav     1.335756  4761.082845 -0.265601   1.767541  major\n",
       "3  Major_11.wav  1130.052298  3596.918809  0.476877   4.769523  major\n",
       "4  Major_12.wav     1.946506  4806.190296 -0.209936   1.644306  major\n",
       "5  Major_13.wav  1338.479344   3778.07876   0.03611   6.720824  major\n",
       "6  Major_14.wav     2.711101  4004.661113 -0.185869   1.957693  major\n",
       "7  Major_15.wav  1216.795535  3679.785739  0.404273  10.945738  major\n",
       "8  Major_16.wav      2.77809  4048.767658 -0.150399   2.087869  major\n",
       "9  Major_17.wav  1204.970441  3171.591704  0.343243  12.392234  major"
      ]
     },
     "execution_count": 4,
     "metadata": {},
     "output_type": "execute_result"
    }
   ],
   "source": [
    "chords.head(10)"
   ]
  },
  {
   "cell_type": "markdown",
   "metadata": {},
   "source": [
    "- Função para facilitar a leitura do arquivo de audio:"
   ]
  },
  {
   "cell_type": "code",
   "execution_count": 5,
   "metadata": {},
   "outputs": [],
   "source": [
    "#Função para ler o arquivo de audio\n",
    "def readAudio(audioFile:str)->Tuple[int, np.array]:\n",
    "    return io.wavfile.read(f\"{dataFolder}/{file}\")"
   ]
  },
  {
   "cell_type": "markdown",
   "metadata": {},
   "source": [
    "## Extraindo atributos\n",
    "\n",
    "Os atributos mais óbivios para reconhecer notas musicais são aqueles que estão intimamente relacionados com a frequêcia, já que as notas musicais possuem frequências específicas. Minha principal aposta de atributo é na razão da distância da frequencia entre a terça e a tónica e a distância entre a quinta e a tônica:\n",
    "$\\frac{F_t}{denominador}$"
   ]
  },
  {
   "cell_type": "markdown",
   "metadata": {},
   "source": [
    "## Criando o modelo do K-NN"
   ]
  },
  {
   "cell_type": "code",
   "execution_count": null,
   "metadata": {},
   "outputs": [],
   "source": [
    "def euclideanDistance(a: np.array, b: np.array) -> float:\n",
    "    return np.sqrt(np.sum((a - b) ** 2))\n",
    "\n",
    "\n",
    "class KNN():\n",
    "    \"\"\"Classificador KNN\"\"\"\n",
    "    \n",
    "    def __init__(self, k: int=3, dataset: pd.DataFrame=chords):\n",
    "        self.k = k\n",
    "        self.data = dataset.copy()\n",
    "\n",
    "    def fit(self, features, labels):\n",
    "        self.X_train = np.array(features)\n",
    "        self.y_train = np.array(labels)\n",
    "\n",
    "    def predict(self, features:np.array) -> str:\n",
    "\n",
    "        \"\"\"Prediz a classe de um conjunto de features\n",
    "\n",
    "            > [INPUT]: Conjunto de features \\n\n",
    "            > [OUTPUT]: Classe prevista\"\"\"\t\n",
    "        \n",
    "        X = np.array(features)\n",
    "        return [self._predict(x) for x in X]\n",
    "    \n",
    "    def _predict(self, x):\n",
    "        distances = [euclideanDistance(x, x_train) for x_train in self.X_train]\n",
    "        k_indices = np.argsort(distances)[:self.k]\n",
    "        k_labels = [self.y_train[i] for i in k_indices]\n",
    "        most_common = Counter(k_labels).most_common(1)\n",
    "        return most_common[0][0]"
   ]
  },
  {
   "cell_type": "markdown",
   "metadata": {},
   "source": [
    "## Criando o modelo do K-Fold\n"
   ]
  },
  {
   "cell_type": "code",
   "execution_count": null,
   "metadata": {},
   "outputs": [],
   "source": [
    "class KFold:\n",
    "    \"\"\"Classificador K-Fold de validação cruzada\"\"\"\n",
    "\n",
    "    def __init__(self, n_splits: int = 10, shuffle: bool = True, random_seed: int = None):\n",
    "        self.n_splits = n_splits\n",
    "        self.shuffle = shuffle\n",
    "        self.random_seed = random_seed\n",
    "\n",
    "    def split(self, features: np.array, labels=np.array)-> Tuple[np.ndarray, np.ndarray]:\n",
    "        \n",
    "        \"\"\"\"Divide os dados em n partes para validação cruzada\n",
    "            > [INPUT]: Array de features e labels\\n\n",
    "            > [OUTPUT]: Tupla de arrays com os índices de treino e teste para cada fold\n",
    "        \"\"\"\n",
    "\n",
    "        n_samples = len(features)\n",
    "        indices = np.arange(n_samples)\n",
    "\n",
    "        if self.shuffle:\n",
    "            rng = np.random.default_rng(self.random_seed)\n",
    "            indices = rng.permutation(indices)\n",
    "        \n",
    "        fold_sizes = np.full(self.n_splits, n_samples // self.n_splits, dtype=int)\n",
    "        fold_sizes[:n_samples % self.n_splits] += 1  # Distribui o resto\n",
    "\n",
    "\n",
    "        current = 0\n",
    "        for fold_size in fold_sizes:\n",
    "            start, stop = current, current + fold_size\n",
    "\n",
    "            #indices para teste e treino\n",
    "            test_idx = indices[start:stop]\n",
    "            train_idx = np.concatenate([indices[:start], indices[stop:]])\n",
    "\n",
    "            current = stop\n",
    "            yield train_idx, test_idx"
   ]
  }
 ],
 "metadata": {
  "kernelspec": {
   "display_name": "Python 3",
   "language": "python",
   "name": "python3"
  },
  "language_info": {
   "codemirror_mode": {
    "name": "ipython",
    "version": 3
   },
   "file_extension": ".py",
   "mimetype": "text/x-python",
   "name": "python",
   "nbconvert_exporter": "python",
   "pygments_lexer": "ipython3",
   "version": "3.13.1"
  }
 },
 "nbformat": 4,
 "nbformat_minor": 2
}
