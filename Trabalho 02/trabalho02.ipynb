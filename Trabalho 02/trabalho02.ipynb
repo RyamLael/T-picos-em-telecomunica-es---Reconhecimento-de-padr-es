{
 "cells": [
  {
   "cell_type": "markdown",
   "metadata": {},
   "source": [
    "# Trabalho 02 - Extração de Atributos e k-NN com k-fold   \n",
    "\n",
    "## Setup inicial\n",
    "\n",
    "### Importando bibliotecas:\n"
   ]
  },
  {
   "cell_type": "code",
   "execution_count": 55,
   "metadata": {},
   "outputs": [],
   "source": [
    "import numpy as np\n",
    "import pandas as pd\n",
    "import matplotlib.pyplot as plt\n",
    "import os\n",
    "\n",
    "import scipy.io as io\n",
    "import scipy.stats as stats\n",
    "from IPython.display import Audio\n",
    "from typing import Tuple"
   ]
  },
  {
   "cell_type": "markdown",
   "metadata": {},
   "source": [
    "### Criando a base de dados"
   ]
  },
  {
   "cell_type": "code",
   "execution_count": 56,
   "metadata": {},
   "outputs": [
    {
     "data": {
      "text/plain": [
       "(100, 6)"
      ]
     },
     "execution_count": 56,
     "metadata": {},
     "output_type": "execute_result"
    }
   ],
   "source": [
    "dataFolder = \"./Acordes\"\n",
    "files = os.listdir(dataFolder)\n",
    "\n",
    "columns = [\"file\", \"mean\", \"std\", \"skewness\", \"kurtosis\", \"class\"]\n",
    "\n",
    "chords = pd.DataFrame(\n",
    "    data= [],\n",
    "    columns = columns,\n",
    "    index= range(len(files))\n",
    ")\n",
    "\n",
    "for index, file in enumerate(files):\n",
    "    \n",
    "    className = file.split(\"_\").pop(0)\n",
    "    className = className.lower()\n",
    "\n",
    "    sampleRate, audio = io.wavfile.read(f\"{dataFolder}/{file}\")\n",
    "    \n",
    "    mean = np.mean(audio)\n",
    "    std = np.std(audio)\n",
    "    skewness = stats.skew(audio)\n",
    "    kurtosis = stats.kurtosis(audio)\n",
    "\n",
    "    chords.iloc[index] = [file, mean, std, skewness, kurtosis, className]\n",
    "\n",
    "chords.shape\n"
   ]
  },
  {
   "cell_type": "markdown",
   "metadata": {},
   "source": [
    "- Visualizando o início do banco de dados:"
   ]
  },
  {
   "cell_type": "code",
   "execution_count": 57,
   "metadata": {},
   "outputs": [
    {
     "data": {
      "text/html": [
       "<div>\n",
       "<style scoped>\n",
       "    .dataframe tbody tr th:only-of-type {\n",
       "        vertical-align: middle;\n",
       "    }\n",
       "\n",
       "    .dataframe tbody tr th {\n",
       "        vertical-align: top;\n",
       "    }\n",
       "\n",
       "    .dataframe thead th {\n",
       "        text-align: right;\n",
       "    }\n",
       "</style>\n",
       "<table border=\"1\" class=\"dataframe\">\n",
       "  <thead>\n",
       "    <tr style=\"text-align: right;\">\n",
       "      <th></th>\n",
       "      <th>file</th>\n",
       "      <th>mean</th>\n",
       "      <th>std</th>\n",
       "      <th>skewness</th>\n",
       "      <th>kurtosis</th>\n",
       "      <th>class</th>\n",
       "    </tr>\n",
       "  </thead>\n",
       "  <tbody>\n",
       "    <tr>\n",
       "      <th>0</th>\n",
       "      <td>Major_0.wav</td>\n",
       "      <td>2.05809</td>\n",
       "      <td>4783.324474</td>\n",
       "      <td>-0.160373</td>\n",
       "      <td>2.695587</td>\n",
       "      <td>major</td>\n",
       "    </tr>\n",
       "    <tr>\n",
       "      <th>1</th>\n",
       "      <td>Major_1.wav</td>\n",
       "      <td>1368.288385</td>\n",
       "      <td>4145.706046</td>\n",
       "      <td>0.346228</td>\n",
       "      <td>4.103374</td>\n",
       "      <td>major</td>\n",
       "    </tr>\n",
       "    <tr>\n",
       "      <th>2</th>\n",
       "      <td>Major_10.wav</td>\n",
       "      <td>1.335756</td>\n",
       "      <td>4761.082845</td>\n",
       "      <td>-0.265601</td>\n",
       "      <td>1.767541</td>\n",
       "      <td>major</td>\n",
       "    </tr>\n",
       "    <tr>\n",
       "      <th>3</th>\n",
       "      <td>Major_11.wav</td>\n",
       "      <td>1130.052298</td>\n",
       "      <td>3596.918809</td>\n",
       "      <td>0.476877</td>\n",
       "      <td>4.769523</td>\n",
       "      <td>major</td>\n",
       "    </tr>\n",
       "    <tr>\n",
       "      <th>4</th>\n",
       "      <td>Major_12.wav</td>\n",
       "      <td>1.946506</td>\n",
       "      <td>4806.190296</td>\n",
       "      <td>-0.209936</td>\n",
       "      <td>1.644306</td>\n",
       "      <td>major</td>\n",
       "    </tr>\n",
       "    <tr>\n",
       "      <th>5</th>\n",
       "      <td>Major_13.wav</td>\n",
       "      <td>1338.479344</td>\n",
       "      <td>3778.07876</td>\n",
       "      <td>0.03611</td>\n",
       "      <td>6.720824</td>\n",
       "      <td>major</td>\n",
       "    </tr>\n",
       "    <tr>\n",
       "      <th>6</th>\n",
       "      <td>Major_14.wav</td>\n",
       "      <td>2.711101</td>\n",
       "      <td>4004.661113</td>\n",
       "      <td>-0.185869</td>\n",
       "      <td>1.957693</td>\n",
       "      <td>major</td>\n",
       "    </tr>\n",
       "    <tr>\n",
       "      <th>7</th>\n",
       "      <td>Major_15.wav</td>\n",
       "      <td>1216.795535</td>\n",
       "      <td>3679.785739</td>\n",
       "      <td>0.404273</td>\n",
       "      <td>10.945738</td>\n",
       "      <td>major</td>\n",
       "    </tr>\n",
       "    <tr>\n",
       "      <th>8</th>\n",
       "      <td>Major_16.wav</td>\n",
       "      <td>2.77809</td>\n",
       "      <td>4048.767658</td>\n",
       "      <td>-0.150399</td>\n",
       "      <td>2.087869</td>\n",
       "      <td>major</td>\n",
       "    </tr>\n",
       "    <tr>\n",
       "      <th>9</th>\n",
       "      <td>Major_17.wav</td>\n",
       "      <td>1204.970441</td>\n",
       "      <td>3171.591704</td>\n",
       "      <td>0.343243</td>\n",
       "      <td>12.392234</td>\n",
       "      <td>major</td>\n",
       "    </tr>\n",
       "  </tbody>\n",
       "</table>\n",
       "</div>"
      ],
      "text/plain": [
       "           file         mean          std  skewness   kurtosis  class\n",
       "0   Major_0.wav      2.05809  4783.324474 -0.160373   2.695587  major\n",
       "1   Major_1.wav  1368.288385  4145.706046  0.346228   4.103374  major\n",
       "2  Major_10.wav     1.335756  4761.082845 -0.265601   1.767541  major\n",
       "3  Major_11.wav  1130.052298  3596.918809  0.476877   4.769523  major\n",
       "4  Major_12.wav     1.946506  4806.190296 -0.209936   1.644306  major\n",
       "5  Major_13.wav  1338.479344   3778.07876   0.03611   6.720824  major\n",
       "6  Major_14.wav     2.711101  4004.661113 -0.185869   1.957693  major\n",
       "7  Major_15.wav  1216.795535  3679.785739  0.404273  10.945738  major\n",
       "8  Major_16.wav      2.77809  4048.767658 -0.150399   2.087869  major\n",
       "9  Major_17.wav  1204.970441  3171.591704  0.343243  12.392234  major"
      ]
     },
     "execution_count": 57,
     "metadata": {},
     "output_type": "execute_result"
    }
   ],
   "source": [
    "chords.head(10)"
   ]
  },
  {
   "cell_type": "markdown",
   "metadata": {},
   "source": [
    "- Função para facilitar a leitura do arquivo de audio:"
   ]
  },
  {
   "cell_type": "code",
   "execution_count": 58,
   "metadata": {},
   "outputs": [],
   "source": [
    "#Função para ler o arquivo de audio\n",
    "def readAudio(audioFile:str)->Tuple[int, np.array]:\n",
    "    return io.wavfile.read(f\"{dataFolder}/{file}\")"
   ]
  },
  {
   "cell_type": "markdown",
   "metadata": {},
   "source": [
    "## Extraindo atributos\n",
    "\n",
    "Os atributos mais óbivios para reconhecer notas musicais são aqueles que estão intimamente relacionados com a frequêcia, já que as notas musicais possuem frequências específicas. Minha principal aposta de atributo é na razão da distância da frequencia entre a terça e a tónica e a distância entre a quinta e a tônica:\n",
    "$\\frac{F_t}{denominador}$"
   ]
  },
  {
   "cell_type": "markdown",
   "metadata": {},
   "source": [
    "## Realizando o K-fold com K = 10\n",
    "\n",
    "### Dividindo o vetor do k-fold em 10 partes"
   ]
  },
  {
   "cell_type": "code",
   "execution_count": 59,
   "metadata": {},
   "outputs": [
    {
     "name": "stderr",
     "output_type": "stream",
     "text": [
      "c:\\Users\\ryaml\\AppData\\Local\\Programs\\Python\\Python312\\Lib\\site-packages\\numpy\\core\\fromnumeric.py:59: FutureWarning: 'Series.swapaxes' is deprecated and will be removed in a future version. Please use 'Series.transpose' instead.\n",
      "  return bound(*args, **kwds)\n"
     ]
    }
   ],
   "source": [
    "kfoldData = chords[\"file\"]\n",
    "\n",
    "kfoldData = np.array_split(kfoldData, 10)"
   ]
  }
 ],
 "metadata": {
  "kernelspec": {
   "display_name": "Python 3",
   "language": "python",
   "name": "python3"
  },
  "language_info": {
   "codemirror_mode": {
    "name": "ipython",
    "version": 3
   },
   "file_extension": ".py",
   "mimetype": "text/x-python",
   "name": "python",
   "nbconvert_exporter": "python",
   "pygments_lexer": "ipython3",
   "version": "3.12.2"
  }
 },
 "nbformat": 4,
 "nbformat_minor": 2
}
